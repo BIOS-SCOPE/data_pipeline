{
 "cells": [
  {
   "cell_type": "markdown",
   "id": "a9efb115-054a-4922-9312-dba2564fd872",
   "metadata": {
    "id": "a9efb115-054a-4922-9312-dba2564fd872"
   },
   "source": [
    "# convertBCODMOtoCMAP\n",
    "Krista Longnecker, 18 July 2025\\\n",
    "Run this after running ```getBCODMOinfo.ipynb```\\\n",
    "This script will make the format required by CMAP.\\\n",
    "Note: this version puts most of the code into separate python scripts (convert*.py) to make it easier to run through multiple data files.\\\n",
    "Also note that you end up running through this twice in order to get all the metadata needed for the _variables_. There are too many details needed by CMAP to automate that step."
   ]
  },
  {
   "cell_type": "code",
   "execution_count": 1,
   "id": "45798c33-8867-439d-a1da-cbe323c0efca",
   "metadata": {},
   "outputs": [],
   "source": [
    "%reset -f"
   ]
  },
  {
   "cell_type": "code",
   "execution_count": null,
   "id": "6edb5289-064f-42ff-a807-68dcc169a7b6",
   "metadata": {
    "id": "6edb5289-064f-42ff-a807-68dcc169a7b6"
   },
   "outputs": [],
   "source": [
    "#some of these are residual from assembling the data file, keep for now.\n",
    "import pandas as pd\n",
    "import requests\n",
    "import os\n",
    "import json\n",
    "import re\n",
    "import pdb\n",
    "\n",
    "from datetime import datetime, timedelta, timezone\n",
    "from SPARQLWrapper import SPARQLWrapper, POST, JSON\n",
    "from frictionless import describe, Package"
   ]
  },
  {
   "cell_type": "code",
   "execution_count": null,
   "id": "b8e537cf-1082-4559-9320-12a8bddb03bb",
   "metadata": {
    "id": "b8e537cf-1082-4559-9320-12a8bddb03bb"
   },
   "outputs": [],
   "source": [
    "# Make a function that searches for bcodmo:name and returns bcodmo:description and bcodmo:units\n",
    "# input: md --> the list of parameters for one dataset\n",
    "def getDetails(md,bcodmo_name):\n",
    "    \"\"\"\n",
    "    Take the list of information from BCO-DMO, search for a name, and return the description and units for that name\n",
    "    \"\"\"\n",
    "    for i, item in enumerate(md):\n",
    "        if item['bcodmo:name'] == bcodmo_name:\n",
    "            #actually want the descrption, so return that\n",
    "            description = item['bcodmo:description']\n",
    "            if 'bcodmo:units' in item:\n",
    "                units = item['bcodmo:units']\n",
    "            else:\n",
    "                units = 'not applicable'\n",
    "            #print(units)\n",
    "\n",
    "    return description, units"
   ]
  },
  {
   "cell_type": "code",
   "execution_count": null,
   "id": "1e80f732-6ba1-48d9-a7e4-741cabbe836a",
   "metadata": {},
   "outputs": [],
   "source": [
    "#Check that an Excel file exists for the variable metadata:\n",
    "if os.path.exists('CMAP_variableMetadata_additions.xlsx'):\n",
    "    print('Found Excel file with metadata')\n",
    "else:\n",
    "    #You cannot proceed without the file, so stop the script if it's not found\n",
    "    print(f\"No Excel file with metadata found\")\n",
    "    sys.exit(1)\n",
    "    "
   ]
  },
  {
   "cell_type": "code",
   "execution_count": null,
   "id": "7b33016a-3190-4863-964f-8a9976672387",
   "metadata": {
    "id": "7b33016a-3190-4863-964f-8a9976672387"
   },
   "outputs": [],
   "source": [
    "#read in the package that was already made (using getBCODMOinfo.ipynb)\n",
    "biosscope = Package('datapackage.json')\n",
    "# biosscope = Package(JSON_FILE)"
   ]
  },
  {
   "cell_type": "code",
   "execution_count": null,
   "id": "b2129d21-538d-4711-9138-fe776f1946f0",
   "metadata": {},
   "outputs": [],
   "source": [
    "out = [];\n",
    "for idx,item in enumerate(biosscope.resources):\n",
    "    justFile = item.name;\n",
    "    out.append(justFile)\n",
    "\n",
    "out #this will be a list, leave here so I see the filenames"
   ]
  },
  {
   "cell_type": "code",
   "execution_count": null,
   "id": "0aa6ab33-1bac-4e7f-8645-582ddf3feb9e",
   "metadata": {},
   "outputs": [],
   "source": [
    "#most datasets need additional processing to get depth and/or time. \n",
    "#Set up a table here to note what needs to be done, use later to spin off to other scripts.\n",
    "#this essentially splits by PI since each PI has different project metadata\n",
    "toSkip = {'zooscan_images_bats_ae1614', #these actually will not match below bc do not end in csv\n",
    " 'zooscan_images_bats_ae1712',\n",
    " 'zooscan_images_bats_ae1819',\n",
    " 'zooscan_images_bats_ae1830',\n",
    " 'zooscan_bats_biovolume'} #this has data, but no time or location informationn\n",
    "pumpData = {'920443_v1_biosscope_in_situ_pump_chemical_data',\n",
    " '964684_v1_amino_acids_biosscope_2021',\n",
    " '964801_v1_pump_carbohydrates_biosscope_2021',\n",
    " '964826_v1_pump_poc_pon_biosscope'}\n",
    "zoopData = {'zooscan_mocness_output'}\n",
    "discreteData = {'survey_biogeochemical'};"
   ]
  },
  {
   "cell_type": "markdown",
   "id": "4fcdfaa2-c137-4c64-b851-9fc5fd2470d9",
   "metadata": {
    "id": "4fcdfaa2-c137-4c64-b851-9fc5fd2470d9"
   },
   "source": [
    "# Work though all of the data files"
   ]
  },
  {
   "cell_type": "code",
   "execution_count": null,
   "id": "bedd6ec9-93f0-44ff-8a07-9e5ff0a0975a",
   "metadata": {},
   "outputs": [],
   "source": [
    "for idx in range(len(biosscope.resources)):\n",
    "    data_url = biosscope.resources[idx].path\n",
    "    if data_url.endswith('.csv'):\n",
    "        checkFile = re.split('/',data_url).pop().replace('.csv','')\n",
    "        #print(data_url)\n",
    "        #have a few options and trying to group these based on added steps needed to make the data file ready\n",
    "        if checkFile in toSkip:\n",
    "            print('skip ' + checkFile)\n",
    "        elif checkFile in pumpData:\n",
    "            %run convert_pumpData.py {idx}   \n",
    "        elif checkFile in zoopData:\n",
    "            %run convert_zoopData.py {idx}   \n",
    "        elif checkFile in discreteData:\n",
    "            %run convert.py {idx}   \n",
    "        else:\n",
    "            print('no match ' + checkFile)"
   ]
  },
  {
   "cell_type": "code",
   "execution_count": null,
   "id": "a4bad143-1f83-4bf6-b94a-ab78b0d55290",
   "metadata": {},
   "outputs": [],
   "source": []
  },
  {
   "cell_type": "code",
   "execution_count": null,
   "id": "9d091827-25c2-446d-968f-954ae5e12fb1",
   "metadata": {},
   "outputs": [],
   "source": []
  }
 ],
 "metadata": {
  "colab": {
   "provenance": []
  },
  "kernelspec": {
   "display_name": "Python 3 (ipykernel)",
   "language": "python",
   "name": "python3"
  },
  "language_info": {
   "codemirror_mode": {
    "name": "ipython",
    "version": 3
   },
   "file_extension": ".py",
   "mimetype": "text/x-python",
   "name": "python",
   "nbconvert_exporter": "python",
   "pygments_lexer": "ipython3",
   "version": "3.11.7"
  }
 },
 "nbformat": 4,
 "nbformat_minor": 5
}
