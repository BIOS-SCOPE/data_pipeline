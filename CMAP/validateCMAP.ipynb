{
 "cells": [
  {
   "cell_type": "markdown",
   "id": "d1cadd3b-4637-4b43-ae48-731ad02cbed3",
   "metadata": {},
   "source": [
    "Script to run the SimonsCMAP QCAPI; from link at Simons CMAP website"
   ]
  },
  {
   "cell_type": "code",
   "execution_count": 5,
   "id": "c4352ea0-54c2-4fa7-9032-e44f1e027df9",
   "metadata": {
    "scrolled": true
   },
   "outputs": [
    {
     "name": "stdout",
     "output_type": "stream",
     "text": [
      "Validating BIOSSCOPE_data_latest.xlsx ...\n",
      "Downloaded 1049600 KB...\n",
      "File is not a zip file\n"
     ]
    },
    {
     "data": {
      "text/plain": [
       "('', True)"
      ]
     },
     "execution_count": 5,
     "metadata": {},
     "output_type": "execute_result"
    }
   ],
   "source": [
    "import os\n",
    "from pathlib import Path   \n",
    "import requests\n",
    "import zipfile\n",
    "\n",
    "def check_excel(filePath):\n",
    "    url = \"https://cmapdatavalidation.com/excel/zip\"\n",
    "    err = False\n",
    "    try:\n",
    "        print(f\"Validating {filePath} ...\")\n",
    "        outPath = f\"{Path(filePath).name.split('.xlsx')[0]}.zip\"\n",
    "        headers = {\n",
    "            \"accept\": \"application/json'\",\n",
    "        }\n",
    "        files = {'file': (filePath, open(filePath, 'rb'), 'application/vnd.ms-excel', {'Expires': '0'})}\n",
    "        resp = requests.post(url, headers=headers, files=files, timeout=1000) \n",
    "        totalbits = 0\n",
    "        with open(outPath, 'wb') as f:\n",
    "            for chunk in resp.iter_content(chunk_size=1024):\n",
    "                if chunk:\n",
    "                    totalbits += 1024\n",
    "                    print(\"Downloaded\",totalbits*1025,\"KB...\")\n",
    "                    f.write(chunk)\n",
    "\n",
    "\n",
    "        unzipDir = f\"{Path(filePath).name.split('.xlsx')[0]}\"\n",
    "        with zipfile.ZipFile(outPath, 'r') as zip_ref:\n",
    "            zip_ref.extractall(unzipDir)\n",
    "        os.remove(outPath)    \n",
    "    except Exception as e:\n",
    "        print(str(e))\n",
    "        err = True\n",
    "        outPath = \"\"\n",
    "    return outPath, err\n",
    "\n",
    "\n",
    "\n",
    "\n",
    "\n",
    "\n",
    "#path to excel file\n",
    "#filePath = \"./CMAP_Dataset.xlsx\"\n",
    "filePath = \"BIOSSCOPE_data_latest.xlsx\"\n",
    "check_excel(filePath)\n",
    "\n",
    "\n"
   ]
  },
  {
   "cell_type": "code",
   "execution_count": null,
   "id": "111bf4d7-6c93-452c-bb61-f9a5fbaf2387",
   "metadata": {},
   "outputs": [],
   "source": []
  }
 ],
 "metadata": {
  "kernelspec": {
   "display_name": "Python 3 (ipykernel)",
   "language": "python",
   "name": "python3"
  },
  "language_info": {
   "codemirror_mode": {
    "name": "ipython",
    "version": 3
   },
   "file_extension": ".py",
   "mimetype": "text/x-python",
   "name": "python",
   "nbconvert_exporter": "python",
   "pygments_lexer": "ipython3",
   "version": "3.13.2"
  }
 },
 "nbformat": 4,
 "nbformat_minor": 5
}
