{
 "cells": [
  {
   "cell_type": "markdown",
   "id": "d1cadd3b-4637-4b43-ae48-731ad02cbed3",
   "metadata": {},
   "source": [
    "Script to run the SimonsCMAP QCAPI; from link at Simons CMAP website"
   ]
  },
  {
   "cell_type": "code",
   "execution_count": 1,
   "id": "c4352ea0-54c2-4fa7-9032-e44f1e027df9",
   "metadata": {
    "scrolled": true
   },
   "outputs": [
    {
     "name": "stdout",
     "output_type": "stream",
     "text": [
      "Validating BIOSSCOPE_data_latest.xlsx ...\n",
      "Downloaded 1049600 KB...\n",
      "Downloaded 2099200 KB...\n",
      "Downloaded 3148800 KB...\n",
      "Downloaded 4198400 KB...\n",
      "Downloaded 5248000 KB...\n",
      "Downloaded 6297600 KB...\n",
      "Downloaded 7347200 KB...\n",
      "Downloaded 8396800 KB...\n",
      "Downloaded 9446400 KB...\n",
      "Downloaded 10496000 KB...\n",
      "Downloaded 11545600 KB...\n",
      "Downloaded 12595200 KB...\n",
      "Downloaded 13644800 KB...\n",
      "Downloaded 14694400 KB...\n",
      "Downloaded 15744000 KB...\n",
      "Downloaded 16793600 KB...\n",
      "Downloaded 17843200 KB...\n",
      "Downloaded 18892800 KB...\n",
      "Downloaded 19942400 KB...\n",
      "Downloaded 20992000 KB...\n",
      "Downloaded 22041600 KB...\n",
      "Downloaded 23091200 KB...\n",
      "Downloaded 24140800 KB...\n",
      "Downloaded 25190400 KB...\n",
      "Downloaded 26240000 KB...\n",
      "Downloaded 27289600 KB...\n",
      "Downloaded 28339200 KB...\n",
      "Downloaded 29388800 KB...\n",
      "Downloaded 30438400 KB...\n",
      "Downloaded 31488000 KB...\n",
      "Downloaded 32537600 KB...\n",
      "Downloaded 33587200 KB...\n",
      "Downloaded 34636800 KB...\n",
      "Downloaded 35686400 KB...\n",
      "Downloaded 36736000 KB...\n",
      "Downloaded 37785600 KB...\n",
      "Downloaded 38835200 KB...\n",
      "Downloaded 39884800 KB...\n",
      "Downloaded 40934400 KB...\n",
      "Downloaded 41984000 KB...\n",
      "Downloaded 43033600 KB...\n",
      "Downloaded 44083200 KB...\n",
      "Downloaded 45132800 KB...\n",
      "Downloaded 46182400 KB...\n",
      "Downloaded 47232000 KB...\n",
      "Downloaded 48281600 KB...\n",
      "Downloaded 49331200 KB...\n",
      "Downloaded 50380800 KB...\n",
      "Downloaded 51430400 KB...\n",
      "Downloaded 52480000 KB...\n",
      "Downloaded 53529600 KB...\n",
      "Downloaded 54579200 KB...\n",
      "Downloaded 55628800 KB...\n",
      "Downloaded 56678400 KB...\n",
      "Downloaded 57728000 KB...\n",
      "Downloaded 58777600 KB...\n",
      "Downloaded 59827200 KB...\n",
      "Downloaded 60876800 KB...\n",
      "Downloaded 61926400 KB...\n",
      "Downloaded 62976000 KB...\n",
      "Downloaded 64025600 KB...\n",
      "Downloaded 65075200 KB...\n",
      "Downloaded 66124800 KB...\n",
      "Downloaded 67174400 KB...\n",
      "Downloaded 68224000 KB...\n",
      "Downloaded 69273600 KB...\n",
      "Downloaded 70323200 KB...\n",
      "Downloaded 71372800 KB...\n",
      "Downloaded 72422400 KB...\n",
      "Downloaded 73472000 KB...\n",
      "Downloaded 74521600 KB...\n",
      "Downloaded 75571200 KB...\n",
      "Downloaded 76620800 KB...\n",
      "Downloaded 77670400 KB...\n",
      "Downloaded 78720000 KB...\n",
      "Downloaded 79769600 KB...\n",
      "Downloaded 80819200 KB...\n",
      "Downloaded 81868800 KB...\n",
      "File is not a zip file\n"
     ]
    },
    {
     "data": {
      "text/plain": [
       "('', True)"
      ]
     },
     "execution_count": 1,
     "metadata": {},
     "output_type": "execute_result"
    }
   ],
   "source": [
    "import os\n",
    "from pathlib import Path   \n",
    "import requests\n",
    "import zipfile\n",
    "\n",
    "def check_excel(filePath):\n",
    "    url = \"https://cmapdatavalidation.com/excel/zip\"\n",
    "    err = False\n",
    "    try:\n",
    "        print(f\"Validating {filePath} ...\")\n",
    "        outPath = f\"{Path(filePath).name.split('.xlsx')[0]}.zip\"\n",
    "        headers = {\n",
    "            \"accept\": \"application/json'\",\n",
    "        }\n",
    "        files = {'file': (filePath, open(filePath, 'rb'), 'application/vnd.ms-excel', {'Expires': '0'})}\n",
    "        resp = requests.post(url, headers=headers, files=files, timeout=1000) \n",
    "        totalbits = 0\n",
    "        with open(outPath, 'wb') as f:\n",
    "            for chunk in resp.iter_content(chunk_size=1024):\n",
    "                if chunk:\n",
    "                    totalbits += 1024\n",
    "                    print(\"Downloaded\",totalbits*1025,\"KB...\")\n",
    "                    f.write(chunk)\n",
    "\n",
    "\n",
    "        unzipDir = f\"{Path(filePath).name.split('.xlsx')[0]}\"\n",
    "        with zipfile.ZipFile(outPath, 'r') as zip_ref:\n",
    "            zip_ref.extractall(unzipDir)\n",
    "        os.remove(outPath)    \n",
    "    except Exception as e:\n",
    "        print(str(e))\n",
    "        err = True\n",
    "        outPath = \"\"\n",
    "    return outPath, err\n",
    "\n",
    "\n",
    "\n",
    "\n",
    "\n",
    "\n",
    "#path to excel file\n",
    "#filePath = \"./CMAP_Dataset.xlsx\"\n",
    "filePath = \"BIOSSCOPE_data_latest.xlsx\"\n",
    "check_excel(filePath)\n",
    "\n",
    "\n"
   ]
  },
  {
   "cell_type": "code",
   "execution_count": 2,
   "id": "f6a50570-858d-4a2c-aa80-4d8b9e7aec98",
   "metadata": {},
   "outputs": [],
   "source": [
    "import os\n",
    "from pathlib import Path   \n",
    "import requests\n",
    "import zipfile"
   ]
  },
  {
   "cell_type": "code",
   "execution_count": null,
   "id": "111bf4d7-6c93-452c-bb61-f9a5fbaf2387",
   "metadata": {},
   "outputs": [],
   "source": [
    "    url = \"https://cmapdatavalidation.com/excel/zip\"\n",
    "    err = False\n",
    "    try:\n",
    "        print(f\"Validating {filePath} ...\")\n",
    "        outPath = f\"{Path(filePath).name.split('.xlsx')[0]}.zip\"\n",
    "        headers = {\n",
    "            \"accept\": \"application/json'\",\n",
    "        }\n",
    "        files = {'file': (filePath, open(filePath, 'rb'), 'application/vnd.ms-excel', {'Expires': '0'})}\n",
    "        resp = requests.post(url, headers=headers, files=files, timeout=1000) \n",
    "        totalbits = 0\n",
    "        with open(outPath, 'wb') as f:\n",
    "            for chunk in resp.iter_content(chunk_size=1024):\n",
    "                if chunk:\n",
    "                    totalbits += 1024\n",
    "                    print(\"Downloaded\",totalbits*1025,\"KB...\")\n",
    "                    f.write(chunk)\n",
    "\n",
    "\n",
    "        unzipDir = f\"{Path(filePath).name.split('.xlsx')[0]}\"\n",
    "        with zipfile.ZipFile(outPath, 'r') as zip_ref:\n",
    "            zip_ref.extractall(unzipDir)\n",
    "        os.remove(outPath)    \n",
    "    except Exception as e:\n",
    "        print(str(e))\n",
    "        err = True\n",
    "        outPath = \"\"\n",
    "    return outPath, err"
   ]
  },
  {
   "cell_type": "code",
   "execution_count": 4,
   "id": "87df12bb-0500-4a55-9ca1-3b687454f38c",
   "metadata": {},
   "outputs": [],
   "source": [
    "filePath = \"BIOSSCOPE_data_latest.xlsx\""
   ]
  },
  {
   "cell_type": "code",
   "execution_count": 3,
   "id": "7c6c5a80-d48a-428b-b14a-18842dbbbbcd",
   "metadata": {},
   "outputs": [],
   "source": [
    "url = \"https://cmapdatavalidation.com/excel/zip\"\n",
    "err = False"
   ]
  },
  {
   "cell_type": "code",
   "execution_count": 5,
   "id": "3d387262-b59a-4820-9cd7-93a818de32c6",
   "metadata": {},
   "outputs": [
    {
     "name": "stdout",
     "output_type": "stream",
     "text": [
      "Validating BIOSSCOPE_data_latest.xlsx ...\n"
     ]
    }
   ],
   "source": [
    "print(f\"Validating {filePath} ...\")"
   ]
  },
  {
   "cell_type": "code",
   "execution_count": 7,
   "id": "d0f6c3ed-4c7a-45bd-812b-34516cb1272a",
   "metadata": {},
   "outputs": [],
   "source": [
    "outPath = f\"{Path(filePath).name.split('.xlsx')[0]}.zip\""
   ]
  },
  {
   "cell_type": "code",
   "execution_count": 8,
   "id": "36cf747c-5f06-43ad-8377-45dacd8cefc9",
   "metadata": {},
   "outputs": [],
   "source": [
    "headers = {\n",
    "            \"accept\": \"application/json'\",\n",
    "        }"
   ]
  },
  {
   "cell_type": "code",
   "execution_count": 9,
   "id": "e5c0e774-9b40-4e5b-8d21-fd6ea9f95787",
   "metadata": {},
   "outputs": [
    {
     "data": {
      "text/plain": [
       "{'accept': \"application/json'\"}"
      ]
     },
     "execution_count": 9,
     "metadata": {},
     "output_type": "execute_result"
    }
   ],
   "source": [
    "headers"
   ]
  },
  {
   "cell_type": "code",
   "execution_count": 10,
   "id": "d47cb2f9-13a1-4e42-b8df-877d337cfad4",
   "metadata": {},
   "outputs": [],
   "source": [
    "files = {'file': (filePath, open(filePath, 'rb'), 'application/vnd.ms-excel', {'Expires': '0'})}"
   ]
  },
  {
   "cell_type": "code",
   "execution_count": 12,
   "id": "d9f0a935-19b7-4711-9071-4e886d80f40b",
   "metadata": {},
   "outputs": [],
   "source": [
    "resp = requests.post(url, headers=headers, files=files, timeout=1000) \n",
    "totalbits = 0"
   ]
  },
  {
   "cell_type": "code",
   "execution_count": null,
   "id": "a5b216cf-726b-401b-b34e-12806a2bc947",
   "metadata": {},
   "outputs": [],
   "source": []
  }
 ],
 "metadata": {
  "kernelspec": {
   "display_name": "Python 3 (ipykernel)",
   "language": "python",
   "name": "python3"
  },
  "language_info": {
   "codemirror_mode": {
    "name": "ipython",
    "version": 3
   },
   "file_extension": ".py",
   "mimetype": "text/x-python",
   "name": "python",
   "nbconvert_exporter": "python",
   "pygments_lexer": "ipython3",
   "version": "3.13.2"
  }
 },
 "nbformat": 4,
 "nbformat_minor": 5
}
