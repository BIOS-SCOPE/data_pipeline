{
 "cells": [
  {
   "cell_type": "markdown",
   "id": "d82afadc-b149-4bfd-9572-7febc8313c9e",
   "metadata": {},
   "source": [
    "# MetaboLights to CMAP\n",
    "## Krista Longnecker, 27 June 2025\n"
   ]
  },
  {
   "cell_type": "markdown",
   "id": "5e3c7214-899f-4083-97fc-5d9bcc0cf63e",
   "metadata": {},
   "source": [
    "MetaboLights has FTP access to their data files and that is easy enough to access, but there are some downstream steps to add because I did not upload the full station inforamtion to MetaboLights."
   ]
  },
  {
   "cell_type": "code",
   "execution_count": 9,
   "id": "7e5d5f61-73bd-432f-960a-976b2bcc70a4",
   "metadata": {},
   "outputs": [],
   "source": [
    "import pandas as pd\n",
    "from ftplib import FTP"
   ]
  },
  {
   "cell_type": "code",
   "execution_count": 10,
   "id": "d45ac813-b5f5-4314-834c-5c8e6c901b99",
   "metadata": {},
   "outputs": [],
   "source": [
    "# start with the TSQ data (only other dataset ready is the untargeted data)\n",
    "study_id = 'MTBLS2356'"
   ]
  },
  {
   "cell_type": "code",
   "execution_count": 43,
   "id": "db0217b1-d7f9-491d-9284-f6f0f7edaea4",
   "metadata": {},
   "outputs": [],
   "source": [
    "ftp = FTP('ftp.ebi.ac.uk') #address from MetaboLights webpage\n",
    "ftp.login()\n",
    "ftp.cwd('/pub/databases/metabolights/studies/public/' + study_id)\n",
    "#ftp.retrlines('LIST') #this will only print to console, not what I want\n",
    "fileList = ftp.nlst() #can use this to make a list that will be searchable"
   ]
  },
  {
   "cell_type": "code",
   "execution_count": 24,
   "id": "640a543f-aadf-4eda-99ca-62e766f6c95d",
   "metadata": {},
   "outputs": [
    {
     "data": {
      "text/plain": [
       "['FILES',\n",
       " 'HASHES',\n",
       " 'METADATA_REVISIONS',\n",
       " 'a_MTBLS2356_LC-MS_negative__metabolite_profiling.txt',\n",
       " 'a_MTBLS2356_LC-MS_positive__metabolite_profiling.txt',\n",
       " 'i_Investigation.txt',\n",
       " 'm_MTBLS2356_LC-MS_negative__metabolite_profiling_v2_maf.tsv',\n",
       " 'm_MTBLS2356_LC-MS_positive__metabolite_profiling_v2_maf.tsv',\n",
       " 's_MTBLS2356.txt']"
      ]
     },
     "execution_count": 24,
     "metadata": {},
     "output_type": "execute_result"
    }
   ],
   "source": [
    "fileList"
   ]
  },
  {
   "cell_type": "code",
   "execution_count": 25,
   "id": "00364018-f720-4c0e-8058-8d4c23772743",
   "metadata": {},
   "outputs": [],
   "source": [
    "# Get the data files first (more than one because things are split positive/negative ion mode...concatenate them later\n",
    "str = 'm_' + study_id #this is the search string for the data files\n",
    "dataFiles = [v for v in fileList if str in v] #Python syntax, will make a list\n",
    "dataFiles = pd.DataFrame(dataFiles,columns = ['files']) #I find the dataframe easier to manage than the list"
   ]
  },
  {
   "cell_type": "code",
   "execution_count": 26,
   "id": "c35ed1a2-bc00-44f9-9245-0775f37afc4a",
   "metadata": {},
   "outputs": [],
   "source": [
    "idx = 0 #make a loop later as can have multiple data files for a single dataset\n",
    "writeFile = 'data/' + 'tempData.tsv'\n",
    "readFile = dataFiles.loc[0,'files']"
   ]
  },
  {
   "cell_type": "code",
   "execution_count": 44,
   "id": "0db77f16-d182-4a71-b444-9f86e3ebc0be",
   "metadata": {},
   "outputs": [],
   "source": [
    "#while testing, if the FTP command fails the connection is left open and the next command gives error\n",
    "#error is: AttributeError: 'NoneType' object has no attribute 'sendall'\n",
    "with open(writeFile,'wb') as fp:\n",
    "    #try-except to make sure the FTP closes\n",
    "    try:\n",
    "        retr_command = f\"RETR {readFile}\"\n",
    "        ftp.retrbinary(retr_command, fp.write)\n",
    "    except Exception as e: \n",
    "        print(f\"Error during quit: {e}\")\n",
    "        \n",
    "#ftp.quit()  #not ready to quit yet..."
   ]
  },
  {
   "cell_type": "code",
   "execution_count": 37,
   "id": "9bbbe2a0-5b3e-4e52-9833-6926771daa3e",
   "metadata": {},
   "outputs": [],
   "source": [
    "#now the test, can I read in the resulting file? YES, so this is the datafile\n",
    "tsvFile = pd.read_table(writeFile,delimiter = '\\t')"
   ]
  },
  {
   "cell_type": "code",
   "execution_count": null,
   "id": "8c8a69d7-0044-405e-bef7-82aed31cade5",
   "metadata": {},
   "outputs": [],
   "source": []
  },
  {
   "cell_type": "code",
   "execution_count": 18,
   "id": "fa52283f-9e69-4503-bfc0-17d67d65d619",
   "metadata": {},
   "outputs": [],
   "source": [
    "# put code here to reorganize this into CMAP format (transpose to rows as samples and remove some columns that are not needed"
   ]
  },
  {
   "cell_type": "code",
   "execution_count": null,
   "id": "b1f9be59-1511-4105-8663-cf7d77825dd7",
   "metadata": {},
   "outputs": [],
   "source": []
  },
  {
   "cell_type": "code",
   "execution_count": 45,
   "id": "da8087ae-a110-4ebd-a2e6-ded2ff35d1a1",
   "metadata": {},
   "outputs": [
    {
     "name": "stdout",
     "output_type": "stream",
     "text": [
      "FTP closed\n"
     ]
    }
   ],
   "source": [
    "#now pull the metadata information so I can convert each sample to time/lat/lon/depth to match the CMAP requirements\n",
    "#same syntax as above\n",
    "str = 's_' + study_id #this is the search string for the data files\n",
    "metadataFiles = [v for v in fileList if str in v] \n",
    "metadataFiles = pd.DataFrame(metadataFiles,columns = ['files'])\n",
    "\n",
    "# metadataFiles\n",
    "writeFile = 'data/' + 'tempMetadata.txt'\n",
    "readFile = metadataFiles.loc[0,'files']\n",
    "\n",
    "with open(oneFile,'wb') as fp:\n",
    "    try:\n",
    "        retr_command = f\"RETR {oneFile}\"\n",
    "        ftp.retrbinary(retr_command, fp.write)\n",
    "    except Exception as e: \n",
    "        print(f\"Error during quit: {e}\")\n",
    "    except AttributeError as e: \n",
    "        print(f\"AttributeError during quit: {e} - connection was likely already closed.\")\n",
    "    \n",
    "ftp.quit()  #can close this down now as I have the files I need (careful when I get to the loop\n",
    "print(\"FTP closed\")"
   ]
  },
  {
   "cell_type": "code",
   "execution_count": 46,
   "id": "213b442b-85cb-4d1b-aa89-501d61e9613e",
   "metadata": {},
   "outputs": [
    {
     "data": {
      "text/plain": [
       "Index(['Source Name', 'Characteristics[Organism]', 'Term Source REF',\n",
       "       'Term Accession Number', 'Characteristics[Organism part]',\n",
       "       'Term Source REF.1', 'Term Accession Number.1',\n",
       "       'Characteristics[Variant]', 'Term Source REF.2',\n",
       "       'Term Accession Number.2', 'Characteristics[Sample type]',\n",
       "       'Term Source REF.3', 'Term Accession Number.3', 'Protocol REF',\n",
       "       'Sample Name', 'Term Source REF.4', 'Term Accession Number.4',\n",
       "       'Term Source REF.5', 'Term Accession Number.5', 'Factor Value[Depth]',\n",
       "       'Unit', 'Term Source REF.6', 'Term Accession Number.6',\n",
       "       'Factor Value[UTC Sampling time]', 'Term Source REF.7',\n",
       "       'Term Accession Number.7', 'Factor Value[Sampling year date]',\n",
       "       'Term Source REF.8', 'Term Accession Number.8',\n",
       "       'Factor Value[Sampling month date]', 'Term Source REF.9',\n",
       "       'Term Accession Number.9', 'Factor Value[Sampling day date]',\n",
       "       'Term Source REF.10', 'Term Accession Number.10',\n",
       "       'Factor Value[Hour of the day]', 'Term Source REF.11',\n",
       "       'Term Accession Number.11', 'Factor Value[Minute of the hour]',\n",
       "       'Term Source REF.12', 'Term Accession Number.12'],\n",
       "      dtype='object')"
      ]
     },
     "execution_count": 46,
     "metadata": {},
     "output_type": "execute_result"
    }
   ],
   "source": [
    "metadata = pd.read_table(oneFile,delimiter = '\\t')\n",
    "metadata.columns"
   ]
  },
  {
   "cell_type": "code",
   "execution_count": 47,
   "id": "0f1498ff-683d-4e46-8147-c40ede63eed3",
   "metadata": {},
   "outputs": [],
   "source": [
    "#can get sample number and time/depth information from here; will need to pull in other information for lat/lon"
   ]
  },
  {
   "cell_type": "code",
   "execution_count": null,
   "id": "15507440-6f0d-4977-a234-79a4a633e53c",
   "metadata": {},
   "outputs": [],
   "source": []
  }
 ],
 "metadata": {
  "kernelspec": {
   "display_name": "Python 3 (ipykernel)",
   "language": "python",
   "name": "python3"
  },
  "language_info": {
   "codemirror_mode": {
    "name": "ipython",
    "version": 3
   },
   "file_extension": ".py",
   "mimetype": "text/x-python",
   "name": "python",
   "nbconvert_exporter": "python",
   "pygments_lexer": "ipython3",
   "version": "3.13.2"
  }
 },
 "nbformat": 4,
 "nbformat_minor": 5
}
